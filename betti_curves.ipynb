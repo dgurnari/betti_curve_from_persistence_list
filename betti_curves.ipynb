{
 "cells": [
  {
   "cell_type": "code",
   "execution_count": 1,
   "id": "460b859e",
   "metadata": {},
   "outputs": [],
   "source": [
    "import numpy as np\n",
    "import gudhi as gd\n",
    "\n",
    "import matplotlib.pyplot as plt"
   ]
  },
  {
   "cell_type": "markdown",
   "id": "bae9103a",
   "metadata": {},
   "source": [
    "# create a VR complex from a pointcloud"
   ]
  },
  {
   "cell_type": "code",
   "execution_count": 2,
   "id": "87f2fb93",
   "metadata": {},
   "outputs": [],
   "source": [
    "pointcloud = np.array([[0,0], [2,-0.2], [4,0.2], [0,-1.5], [2,-3], [4,-1], [3.8,-2.5]] )\n",
    "epsilon = 12\n",
    "\n",
    "rips_complex = gd.RipsComplex(points = pointcloud,\n",
    "                                 max_edge_length= epsilon)\n",
    "\n",
    "simplex_tree = rips_complex.create_simplex_tree(max_dimension=len(pointcloud))\n"
   ]
  },
  {
   "cell_type": "code",
   "execution_count": 3,
   "id": "a8924cef",
   "metadata": {},
   "outputs": [
    {
     "data": {
      "image/png": "[encoded data removed]",
      "text/plain": [
       "<Figure size 432x288 with 1 Axes>"
      ]
     },
     "metadata": {
      "needs_background": "light"
     },
     "output_type": "display_data"
    }
   ],
   "source": [
    "plt.figure()\n",
    "plt.axis('equal')\n",
    "for i in range(len(pointcloud)):\n",
    "    plt.scatter(pointcloud[i][0], pointcloud[i][1], color = \"blue\")\n",
    "    plt.text(pointcloud[i][0], pointcloud[i][1], i)"
   ]
  },
  {
   "cell_type": "code",
   "execution_count": 4,
   "id": "9bb94900",
   "metadata": {},
   "outputs": [
    {
     "name": "stdout",
     "output_type": "stream",
     "text": [
      "Rips complex is of dimension 6 - 127 simplices - 7 vertices.\n",
      "[0] -> 0.00\n",
      "[1] -> 0.00\n",
      "[2] -> 0.00\n",
      "[3] -> 0.00\n",
      "[4] -> 0.00\n",
      "[5] -> 0.00\n",
      "[6] -> 0.00\n",
      "[2, 5] -> 1.20\n",
      "[0, 3] -> 1.50\n",
      "[5, 6] -> 1.51\n",
      "[4, 6] -> 1.87\n",
      "[0, 1] -> 2.01\n",
      "[1, 2] -> 2.04\n",
      "[1, 5] -> 2.15\n",
      "[1, 2, 5] -> 2.15\n",
      "[1, 3] -> 2.39\n",
      "[0, 1, 3] -> 2.39\n",
      "[3, 4] -> 2.50\n",
      "[2, 6] -> 2.71\n",
      "[2, 5, 6] -> 2.71\n",
      "[1, 4] -> 2.80\n",
      "[1, 3, 4] -> 2.80\n",
      "[4, 5] -> 2.83\n",
      "[1, 4, 5] -> 2.83\n",
      "[4, 5, 6] -> 2.83\n",
      "[1, 6] -> 2.92\n",
      "[1, 2, 6] -> 2.92\n",
      "[1, 4, 6] -> 2.92\n",
      "[1, 5, 6] -> 2.92\n",
      "[1, 2, 5, 6] -> 2.92\n",
      "[1, 4, 5, 6] -> 2.92\n",
      "[0, 4] -> 3.61\n",
      "[0, 1, 4] -> 3.61\n",
      "[0, 3, 4] -> 3.61\n",
      "[0, 1, 3, 4] -> 3.61\n",
      "[2, 4] -> 3.77\n",
      "[1, 2, 4] -> 3.77\n",
      "[2, 4, 5] -> 3.77\n",
      "[1, 2, 4, 5] -> 3.77\n",
      "[2, 4, 6] -> 3.77\n",
      "[1, 2, 4, 6] -> 3.77\n",
      "[2, 4, 5, 6] -> 3.77\n",
      "[1, 2, 4, 5, 6] -> 3.77\n",
      "[3, 6] -> 3.93\n",
      "[1, 3, 6] -> 3.93\n",
      "[3, 4, 6] -> 3.93\n",
      "[1, 3, 4, 6] -> 3.93\n",
      "[0, 2] -> 4.00\n",
      "[0, 1, 2] -> 4.00\n",
      "[0, 2, 4] -> 4.00\n",
      "[0, 1, 2, 4] -> 4.00\n",
      "[3, 5] -> 4.03\n",
      "[1, 3, 5] -> 4.03\n",
      "[3, 4, 5] -> 4.03\n",
      "[1, 3, 4, 5] -> 4.03\n",
      "[3, 5, 6] -> 4.03\n",
      "[1, 3, 5, 6] -> 4.03\n",
      "[3, 4, 5, 6] -> 4.03\n",
      "[1, 3, 4, 5, 6] -> 4.03\n",
      "[0, 5] -> 4.12\n",
      "[0, 1, 5] -> 4.12\n",
      "[0, 2, 5] -> 4.12\n",
      "[0, 1, 2, 5] -> 4.12\n",
      "[0, 3, 5] -> 4.12\n",
      "[0, 1, 3, 5] -> 4.12\n",
      "[0, 4, 5] -> 4.12\n",
      "[0, 1, 4, 5] -> 4.12\n",
      "[0, 2, 4, 5] -> 4.12\n",
      "[0, 1, 2, 4, 5] -> 4.12\n",
      "[0, 3, 4, 5] -> 4.12\n",
      "[0, 1, 3, 4, 5] -> 4.12\n",
      "[2, 3] -> 4.35\n",
      "[0, 2, 3] -> 4.35\n",
      "[1, 2, 3] -> 4.35\n",
      "[0, 1, 2, 3] -> 4.35\n",
      "[2, 3, 4] -> 4.35\n",
      "[0, 2, 3, 4] -> 4.35\n",
      "[1, 2, 3, 4] -> 4.35\n",
      "[0, 1, 2, 3, 4] -> 4.35\n",
      "[2, 3, 5] -> 4.35\n",
      "[0, 2, 3, 5] -> 4.35\n",
      "[1, 2, 3, 5] -> 4.35\n",
      "[0, 1, 2, 3, 5] -> 4.35\n",
      "[2, 3, 4, 5] -> 4.35\n",
      "[0, 2, 3, 4, 5] -> 4.35\n",
      "[1, 2, 3, 4, 5] -> 4.35\n",
      "[0, 1, 2, 3, 4, 5] -> 4.35\n",
      "[2, 3, 6] -> 4.35\n",
      "[1, 2, 3, 6] -> 4.35\n",
      "[2, 3, 4, 6] -> 4.35\n",
      "[1, 2, 3, 4, 6] -> 4.35\n",
      "[2, 3, 5, 6] -> 4.35\n",
      "[1, 2, 3, 5, 6] -> 4.35\n",
      "[2, 3, 4, 5, 6] -> 4.35\n",
      "[1, 2, 3, 4, 5, 6] -> 4.35\n",
      "[0, 6] -> 4.55\n",
      "[0, 1, 6] -> 4.55\n",
      "[0, 2, 6] -> 4.55\n",
      "[0, 1, 2, 6] -> 4.55\n",
      "[0, 3, 6] -> 4.55\n",
      "[0, 1, 3, 6] -> 4.55\n",
      "[0, 2, 3, 6] -> 4.55\n",
      "[0, 1, 2, 3, 6] -> 4.55\n",
      "[0, 4, 6] -> 4.55\n",
      "[0, 1, 4, 6] -> 4.55\n",
      "[0, 2, 4, 6] -> 4.55\n",
      "[0, 1, 2, 4, 6] -> 4.55\n",
      "[0, 3, 4, 6] -> 4.55\n",
      "[0, 1, 3, 4, 6] -> 4.55\n",
      "[0, 2, 3, 4, 6] -> 4.55\n",
      "[0, 1, 2, 3, 4, 6] -> 4.55\n",
      "[0, 5, 6] -> 4.55\n",
      "[0, 1, 5, 6] -> 4.55\n",
      "[0, 2, 5, 6] -> 4.55\n",
      "[0, 1, 2, 5, 6] -> 4.55\n",
      "[0, 3, 5, 6] -> 4.55\n",
      "[0, 1, 3, 5, 6] -> 4.55\n",
      "[0, 2, 3, 5, 6] -> 4.55\n",
      "[0, 1, 2, 3, 5, 6] -> 4.55\n",
      "[0, 4, 5, 6] -> 4.55\n",
      "[0, 1, 4, 5, 6] -> 4.55\n",
      "[0, 2, 4, 5, 6] -> 4.55\n",
      "[0, 1, 2, 4, 5, 6] -> 4.55\n",
      "[0, 3, 4, 5, 6] -> 4.55\n",
      "[0, 1, 3, 4, 5, 6] -> 4.55\n",
      "[0, 2, 3, 4, 5, 6] -> 4.55\n",
      "[0, 1, 2, 3, 4, 5, 6] -> 4.55\n"
     ]
    }
   ],
   "source": [
    "result_str = 'Rips complex is of dimension ' + repr(simplex_tree.dimension()) + ' - ' + \\\n",
    "    repr(simplex_tree.num_simplices()) + ' simplices - ' + \\\n",
    "    repr(simplex_tree.num_vertices()) + ' vertices.'\n",
    "print(result_str)\n",
    "fmt = '%s -> %.2f'\n",
    "for filtered_value in simplex_tree.get_filtration():\n",
    "    print(fmt % tuple(filtered_value))"
   ]
  },
  {
   "cell_type": "markdown",
   "id": "c91f664e",
   "metadata": {},
   "source": [
    "# compute persistence"
   ]
  },
  {
   "cell_type": "code",
   "execution_count": 5,
   "id": "d61ccc09",
   "metadata": {},
   "outputs": [
    {
     "data": {
      "text/plain": [
       "[(1, (2.5, 2.8284271247461903)),\n",
       " (0, (0.0, inf)),\n",
       " (0, (0.0, 2.039607805437114)),\n",
       " (0, (0.0, 2.009975124224178)),\n",
       " (0, (0.0, 1.8681541692269403)),\n",
       " (0, (0.0, 1.5132745950421556)),\n",
       " (0, (0.0, 1.5)),\n",
       " (0, (0.0, 1.2))]"
      ]
     },
     "execution_count": 5,
     "metadata": {},
     "output_type": "execute_result"
    }
   ],
   "source": [
    "simplex_tree.persistence()"
   ]
  },
  {
   "cell_type": "code",
   "execution_count": 6,
   "id": "140f84b4",
   "metadata": {},
   "outputs": [
    {
     "data": {
      "text/plain": [
       "array([[0.        , 1.2       ],\n",
       "       [0.        , 1.5       ],\n",
       "       [0.        , 1.5132746 ],\n",
       "       [0.        , 1.86815417],\n",
       "       [0.        , 2.00997512],\n",
       "       [0.        , 2.03960781],\n",
       "       [0.        ,        inf]])"
      ]
     },
     "execution_count": 6,
     "metadata": {},
     "output_type": "execute_result"
    },
    {
     "data": {
      "image/png": "[encoded data removed]",
      "text/plain": [
       "<Figure size 432x288 with 1 Axes>"
      ]
     },
     "metadata": {
      "needs_background": "light"
     },
     "output_type": "display_data"
    }
   ],
   "source": [
    "barcodes_0 = simplex_tree.persistence_intervals_in_dimension(0)\n",
    "gd.plot_persistence_diagram(barcodes_0);\n",
    "barcodes_0"
   ]
  },
  {
   "cell_type": "code",
   "execution_count": 7,
   "id": "cbf3961a",
   "metadata": {},
   "outputs": [
    {
     "data": {
      "text/plain": [
       "array([[2.5       , 2.82842712]])"
      ]
     },
     "execution_count": 7,
     "metadata": {},
     "output_type": "execute_result"
    },
    {
     "data": {
      "image/png": "[encoded data removed]",
      "text/plain": [
       "<Figure size 432x288 with 1 Axes>"
      ]
     },
     "metadata": {
      "needs_background": "light"
     },
     "output_type": "display_data"
    }
   ],
   "source": [
    "barcodes_1 = simplex_tree.persistence_intervals_in_dimension(1)\n",
    "gd.plot_persistence_diagram(barcodes_1);\n",
    "barcodes_1"
   ]
  },
  {
   "cell_type": "markdown",
   "id": "c36b01a5",
   "metadata": {},
   "source": [
    "# compute Betti curves"
   ]
  },
  {
   "cell_type": "code",
   "execution_count": 8,
   "id": "23ee168f",
   "metadata": {},
   "outputs": [],
   "source": [
    "# HELPER FUNCTION\n",
    "# given the ordered list of local contributions to the betti number\n",
    "# returns a list of tuples (filtration, betti number characteristic)\n",
    "def sum_local_contributions(local_contributions):\n",
    "\n",
    "    betti_curve = []\n",
    "    old_f, current_number = local_contributions[0]\n",
    "\n",
    "    for filtration, contribution in local_contributions[1:]:\n",
    "        if filtration > old_f:\n",
    "            betti_curve.append([old_f, current_number])\n",
    "            old_f = filtration\n",
    "\n",
    "        current_number += contribution\n",
    "\n",
    "    # add last contribution\n",
    "    betti_curve.append([filtration, current_number])\n",
    "\n",
    "    return betti_curve\n",
    "\n",
    "\n",
    "# MAIN FUNCTION\n",
    "# from a list of (birth, death) pairs computes the betti curves\n",
    "# by assigning +1 to each birth filtration value\n",
    "# and -1 to each death filtration value\n",
    "# then sorts the list of contributions and sums them up\n",
    "def betti_curve_from_persistence_list(barcodes):\n",
    "    \n",
    "    local_contributions = {} # dict {filtration: contribution}\n",
    "    \n",
    "    for birth, death in barcodes:\n",
    "        local_contributions[birth] = local_contributions.get(birth, 0) + 1\n",
    "        local_contributions[death] = local_contributions.get(death, 0) - 1\n",
    "\n",
    "        \n",
    "    # remove the contributions that are 0\n",
    "    to_del = []\n",
    "    for key in local_contributions:\n",
    "        if local_contributions[key] == 0:\n",
    "            to_del.append(key)\n",
    "\n",
    "    for key in to_del:\n",
    "        del local_contributions[key]\n",
    "\n",
    "    # convert the dict into a list, sort it according to the filtration and sum the contributions\n",
    "    return sum_local_contributions(sorted(list(local_contributions.items()), \n",
    "                                          key = lambda x: x[0])\n",
    "                                  )\n",
    "        \n",
    "\n",
    "\n",
    "        "
   ]
  },
  {
   "cell_type": "code",
   "execution_count": 9,
   "id": "710402eb",
   "metadata": {},
   "outputs": [],
   "source": [
    "# WARNING\n",
    "# when plotting a lot of points, drawing the lines can take some time\n",
    "def plot_betti_curve(b_list, with_lines=False, title=None):\n",
    "    plt.figure()\n",
    "    plt.scatter([f[0] for f in b_list], [f[1] for f in b_list])\n",
    "\n",
    "    # draw horizontal and vertical lines b/w points\n",
    "\n",
    "    if with_lines:\n",
    "        for i in range(1, len(b_list)):\n",
    "            plt.vlines(\n",
    "                x=b_list[i][0],\n",
    "                ymin=min(b_list[i - 1][1], b_list[i][1]),\n",
    "                ymax=max(b_list[i - 1][1], b_list[i][1]),\n",
    "            )\n",
    "            plt.hlines(y=b_list[i - 1][1], xmin=b_list[i - 1][0], xmax=b_list[i][0])\n",
    "\n",
    "    plt.xlabel(\"Filtration\")\n",
    "    plt.ylabel(\"Betti Number\")\n",
    "    plt.title(title)"
   ]
  },
  {
   "cell_type": "markdown",
   "id": "d7ad6c54",
   "metadata": {},
   "source": [
    "# Betti 0"
   ]
  },
  {
   "cell_type": "code",
   "execution_count": 10,
   "id": "eeb400a7",
   "metadata": {},
   "outputs": [
    {
     "data": {
      "text/plain": [
       "array([[0.        , 1.2       ],\n",
       "       [0.        , 1.5       ],\n",
       "       [0.        , 1.5132746 ],\n",
       "       [0.        , 1.86815417],\n",
       "       [0.        , 2.00997512],\n",
       "       [0.        , 2.03960781],\n",
       "       [0.        ,        inf]])"
      ]
     },
     "execution_count": 10,
     "metadata": {},
     "output_type": "execute_result"
    }
   ],
   "source": [
    "barcodes_0"
   ]
  },
  {
   "cell_type": "code",
   "execution_count": 11,
   "id": "c3f8f06f",
   "metadata": {},
   "outputs": [
    {
     "data": {
      "text/plain": [
       "[[0.0, 7],\n",
       " [1.2, 6],\n",
       " [1.5, 5],\n",
       " [1.5132745950421556, 4],\n",
       " [1.8681541692269403, 3],\n",
       " [2.009975124224178, 2],\n",
       " [2.039607805437114, 1],\n",
       " [inf, 0]]"
      ]
     },
     "execution_count": 11,
     "metadata": {},
     "output_type": "execute_result"
    }
   ],
   "source": [
    "betti_curve_0 = betti_curve_from_persistence_list(barcodes_0)\n",
    "betti_curve_0"
   ]
  },
  {
   "cell_type": "code",
   "execution_count": 12,
   "id": "3c7a7048",
   "metadata": {},
   "outputs": [
    {
     "data": {
      "image/png": "[encoded data removed]",
      "text/plain": [
       "<Figure size 432x288 with 1 Axes>"
      ]
     },
     "metadata": {
      "needs_background": "light"
     },
     "output_type": "display_data"
    }
   ],
   "source": [
    "# lets not consider the point at inf\n",
    "plot_betti_curve(betti_curve_0[:-1], with_lines=True)"
   ]
  },
  {
   "cell_type": "markdown",
   "id": "bb3d4825",
   "metadata": {},
   "source": [
    "# Betti 1"
   ]
  },
  {
   "cell_type": "code",
   "execution_count": 13,
   "id": "7cfd0499",
   "metadata": {},
   "outputs": [
    {
     "data": {
      "text/plain": [
       "array([[2.5       , 2.82842712]])"
      ]
     },
     "execution_count": 13,
     "metadata": {},
     "output_type": "execute_result"
    }
   ],
   "source": [
    "barcodes_1"
   ]
  },
  {
   "cell_type": "code",
   "execution_count": 14,
   "id": "6372a396",
   "metadata": {},
   "outputs": [
    {
     "data": {
      "text/plain": [
       "[[2.5, 1], [2.8284271247461903, 0]]"
      ]
     },
     "execution_count": 14,
     "metadata": {},
     "output_type": "execute_result"
    }
   ],
   "source": [
    "betti_curve_1 = betti_curve_from_persistence_list(barcodes_1)\n",
    "betti_curve_1"
   ]
  },
  {
   "cell_type": "code",
   "execution_count": 15,
   "id": "971dbecf",
   "metadata": {},
   "outputs": [
    {
     "data": {
      "image/png": "[encoded data removed]",
      "text/plain": [
       "<Figure size 432x288 with 1 Axes>"
      ]
     },
     "metadata": {
      "needs_background": "light"
     },
     "output_type": "display_data"
    }
   ],
   "source": [
    "# lets add the point [0,0] to ease visualization\n",
    "plot_betti_curve([[0,0]] + betti_curve_1, with_lines=True)"
   ]
  },
  {
   "cell_type": "code",
   "execution_count": null,
   "id": "001e0677",
   "metadata": {},
   "outputs": [],
   "source": []
  }
 ],
 "metadata": {
  "kernelspec": {
   "display_name": "Python 3 (ipykernel)",
   "language": "python",
   "name": "python3"
  },
  "language_info": {
   "codemirror_mode": {
    "name": "ipython",
    "version": 3
   },
   "file_extension": ".py",
   "mimetype": "text/x-python",
   "name": "python",
   "nbconvert_exporter": "python",
   "pygments_lexer": "ipython3",
   "version": "3.8.10"
  }
 },
 "nbformat": 4,
 "nbformat_minor": 5
}
